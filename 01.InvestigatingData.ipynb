{
 "cells": [
  {
   "cell_type": "code",
   "execution_count": 15,
   "metadata": {
    "collapsed": false
   },
   "outputs": [
    {
     "name": "stdout",
     "output_type": "stream",
     "text": [
      "1640\n",
      "136240\n",
      "3642\n",
      "1302\n",
      "1237\n",
      "743\n",
      "{'status': 'canceled', 'days_to_cancel': '65', 'is_udacity': 'True', 'join_date': '2014-11-10', 'account_key': '448', 'is_canceled': 'True', 'cancel_date': '2015-01-14'}\n",
      "{'acct': '0', 'utc_date': '2015-04-19', 'total_minutes_visited': '0.0', 'projects_completed': '0.0', 'num_courses_visited': '0.0', 'lessons_completed': '0.0'}\n",
      "{'processing_state': 'EVALUATED', 'assigned_rating': 'UNGRADED', 'account_key': '256', 'creation_date': '2015-01-14', 'lesson_key': '3176718735', 'completion_date': '2015-01-16'}\n"
     ]
    }
   ],
   "source": [
    "import unicodecsv\n",
    "\n",
    "def read_csv(filename):\n",
    "    with open(filename, 'rb') as f:\n",
    "        reader = unicodecsv.DictReader(f)\n",
    "        return list(reader)\n",
    "\n",
    "def number_lines(dictionary):\n",
    "    return len(dictionary)\n",
    "\n",
    "def number_unique_users(dictionary, key):\n",
    "    unique=set()\n",
    "    \n",
    "    for user in dictionary:\n",
    "        unique.add(user[key])\n",
    "    \n",
    "    return len(unique)\n",
    "\n",
    "\n",
    "enrollments = read_csv('enrollments.csv')\n",
    "daily_engagement = read_csv('daily_engagement.csv')\n",
    "project_submissions = read_csv('project_submissions.csv')\n",
    "    \n",
    "### For each of these three tables, find the number of rows in the table and\n",
    "### the number of unique students in the table. To find the number of unique\n",
    "### students, you might want to create a set of the account keys in each table.\n",
    "\n",
    "enrollment_num_rows = number_lines(enrollments)            # Replace this with your code\n",
    "enrollment_num_unique_students = number_unique_users(enrollments, 'account_key')  # Replace this with your code\n",
    "\n",
    "engagement_num_rows = number_lines(daily_engagement)            # Replace this with your code\n",
    "engagement_num_unique_students = number_unique_users(daily_engagement, 'acct')   # Replace this with your code\n",
    "\n",
    "submission_num_rows = number_lines(project_submissions)            # Replace this with your code\n",
    "submission_num_unique_students = number_unique_users(project_submissions, 'account_key')   # Replace this with your code\n",
    "\n",
    "print(enrollment_num_rows)\n",
    "print(engagement_num_rows)\n",
    "print(submission_num_rows)\n",
    "\n",
    "print(enrollment_num_unique_students)\n",
    "print(engagement_num_unique_students)\n",
    "print(submission_num_unique_students)\n",
    "\n",
    "print(enrollments[0])\n",
    "print(daily_engagement[100])\n",
    "print(project_submissions[0])"
   ]
  },
  {
   "cell_type": "code",
   "execution_count": null,
   "metadata": {
    "collapsed": true
   },
   "outputs": [],
   "source": []
  }
 ],
 "metadata": {
  "anaconda-cloud": {},
  "kernelspec": {
   "display_name": "Python [default]",
   "language": "python",
   "name": "python3"
  },
  "language_info": {
   "codemirror_mode": {
    "name": "ipython",
    "version": 3
   },
   "file_extension": ".py",
   "mimetype": "text/x-python",
   "name": "python",
   "nbconvert_exporter": "python",
   "pygments_lexer": "ipython3",
   "version": "3.5.2"
  }
 },
 "nbformat": 4,
 "nbformat_minor": 1
}
